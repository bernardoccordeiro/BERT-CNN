{
 "cells": [
  {
   "cell_type": "code",
   "execution_count": 1,
   "metadata": {},
   "outputs": [
    {
     "name": "stderr",
     "output_type": "stream",
     "text": [
      "C:\\Users\\berna\\Anaconda3\\lib\\site-packages\\h5py\\__init__.py:34: FutureWarning: Conversion of the second argument of issubdtype from `float` to `np.floating` is deprecated. In future, it will be treated as `np.float64 == np.dtype(float).type`.\n",
      "  from ._conv import register_converters as _register_converters\n",
      "C:\\Users\\berna\\Anaconda3\\lib\\site-packages\\gensim\\utils.py:1212: UserWarning: detected Windows; aliasing chunkize to chunkize_serial\n",
      "  warnings.warn(\"detected Windows; aliasing chunkize to chunkize_serial\")\n"
     ]
    }
   ],
   "source": [
    "from tensorflow import set_random_seed\n",
    "import numpy as np\n",
    "np.random.seed(42)\n",
    "set_random_seed(2)\n",
    "\n",
    "import pandas as pd\n",
    "import tensorflow as tf\n",
    "import re\n",
    "\n",
    "from tensorflow.keras import Model, Sequential\n",
    "from tensorflow.keras.layers import Dense, Conv2D, Conv1D, Embedding, GlobalMaxPooling2D, GlobalMaxPooling1D, Dropout, Reshape, Input, Concatenate\n",
    "from tensorflow.keras.preprocessing.sequence import pad_sequences\n",
    "from tensorflow.keras.optimizers import Adam, Adadelta\n",
    "from tensorflow.keras.constraints import max_norm\n",
    "\n",
    "from gensim.models.keyedvectors import KeyedVectors\n",
    "from sklearn.model_selection import KFold"
   ]
  },
  {
   "cell_type": "code",
   "execution_count": 2,
   "metadata": {
    "collapsed": true
   },
   "outputs": [],
   "source": [
    "def clean_str(string, TREC=False):\n",
    "    \"\"\"\n",
    "    Tokenization/string cleaning for all datasets except for SST.\n",
    "    Every dataset is lower cased except for TREC\n",
    "    \"\"\"\n",
    "    string = re.sub(r\"[^A-Za-z0-9(),!?\\'\\`]\", \" \", string)     \n",
    "    string = re.sub(r\"\\'s\", \" \\'s\", string) \n",
    "    string = re.sub(r\"\\'ve\", \" \\'ve\", string) \n",
    "    string = re.sub(r\"n\\'t\", \" n\\'t\", string) \n",
    "    string = re.sub(r\"\\'re\", \" \\'re\", string) \n",
    "    string = re.sub(r\"\\'d\", \" \\'d\", string) \n",
    "    string = re.sub(r\"\\'ll\", \" \\'ll\", string) \n",
    "    string = re.sub(r\",\", \" , \", string) \n",
    "    string = re.sub(r\"!\", \" ! \", string) \n",
    "    string = re.sub(r\"\\(\", \" \\( \", string) \n",
    "    string = re.sub(r\"\\)\", \" \\) \", string) \n",
    "    string = re.sub(r\"\\?\", \" \\? \", string) \n",
    "    string = re.sub(r\"\\s{2,}\", \" \", string)    \n",
    "    return string.strip() if TREC else string.strip().lower()"
   ]
  },
  {
   "cell_type": "code",
   "execution_count": 3,
   "metadata": {
    "collapsed": true
   },
   "outputs": [],
   "source": [
    "def clean_str_sst(string):\n",
    "    \"\"\"\n",
    "    Tokenization/string cleaning for the SST dataset\n",
    "    \"\"\"\n",
    "    string = re.sub(r\"[^A-Za-z0-9(),!?\\'\\`]\", \" \", string)   \n",
    "    string = re.sub(r\"\\s{2,}\", \" \", string)    \n",
    "    return string.strip().lower()"
   ]
  },
  {
   "cell_type": "code",
   "execution_count": 4,
   "metadata": {},
   "outputs": [],
   "source": [
    "np.random.seed(42)\n",
    "set_random_seed(2)\n",
    "\n",
    "#MR Dataset\n",
    "train_neg = []\n",
    "train_pos = []\n",
    "with open('rt-polaritydata/rt-polarity.neg') as neg_r:\n",
    "    for line in neg_r.readlines():\n",
    "        train_neg.append(clean_str(line))\n",
    "with open('rt-polaritydata/rt-polarity.pos') as pos_r:\n",
    "    for line in pos_r.readlines():\n",
    "        train_pos.append(clean_str(line))\n",
    "train_data = np.concatenate((train_pos, train_neg))\n",
    "\n",
    "pos_labels = np.ones(len(train_pos))\n",
    "neg_labels = np.zeros(len(train_neg))\n",
    "labels = np.concatenate((pos_labels, neg_labels))\n",
    "\n",
    "shuffled_indices = list(range(len(train_data)))\n",
    "np.random.shuffle(shuffled_indices)\n",
    "\n",
    "train_data = train_data[shuffled_indices]\n",
    "labels = labels[shuffled_indices]\n",
    "\n",
    "n_classes = len(np.unique(labels))"
   ]
  },
  {
   "cell_type": "code",
   "execution_count": 5,
   "metadata": {
    "collapsed": true
   },
   "outputs": [],
   "source": [
    "tokenizer = tf.keras.preprocessing.text.Tokenizer()\n",
    "tokenizer.fit_on_texts(train_data)\n",
    "\n",
    "word_index = tokenizer.word_index\n",
    "vocab_size = len(word_index) + 1\n",
    "\n",
    "embedding_size = 300\n",
    "sentence_size = 59\n",
    "X_train = tokenizer.texts_to_sequences(train_data)\n",
    "X_train = pad_sequences(X_train, maxlen=sentence_size, padding='post')"
   ]
  },
  {
   "cell_type": "code",
   "execution_count": 6,
   "metadata": {
    "collapsed": true
   },
   "outputs": [],
   "source": [
    "reverse_word_index = {v: k for k,v in word_index.items()}\n",
    "reverse_word_index[0] = '<PAD>'"
   ]
  },
  {
   "cell_type": "code",
   "execution_count": 7,
   "metadata": {},
   "outputs": [],
   "source": [
    "w2v = KeyedVectors.load_word2vec_format('GoogleNews-vectors-negative300.bin', binary=True)"
   ]
  },
  {
   "cell_type": "code",
   "execution_count": 8,
   "metadata": {},
   "outputs": [],
   "source": [
    "embedding_weights = []\n",
    "embedding_weights.append(list(np.zeros(embedding_size)))\n",
    "for k, v in word_index.items():\n",
    "    try:\n",
    "        wv = w2v[k]\n",
    "    except:\n",
    "        wv = np.random.random(embedding_size)\n",
    "    embedding_weights.append(list(wv))\n",
    "embedding_weights = np.array(embedding_weights)"
   ]
  },
  {
   "cell_type": "markdown",
   "metadata": {},
   "source": [
    "For all datasets we use: \n",
    "rectified linear units, \n",
    "filter windows (h) of 3, 4, 5 with 100 feature maps each,\n",
    "dropout rate (p) of 0.5, \n",
    "l2 constraint (s) of 3,\n",
    "mini-batch size of 50. \n",
    "\n",
    "These values were chosen\n",
    "via a grid search on the SST-2 dev set.\n",
    "We do not otherwise perform any datasetspecific tuning other than early stopping on dev\n",
    "sets. For datasets without a standard dev set we\n",
    "randomly select 10% of the training data as the\n",
    "dev set. \n",
    "Training is done through stochastic gradient descent over shuffled mini-batches with the Adadelta update rule (Zeiler, 2012)."
   ]
  },
  {
   "cell_type": "markdown",
   "metadata": {},
   "source": [
    "### Define model outside class"
   ]
  },
  {
   "cell_type": "code",
   "execution_count": 20,
   "metadata": {},
   "outputs": [],
   "source": [
    "#Define model\n",
    "\n",
    "static = True\n",
    "rand = False\n",
    "multichannel = True\n",
    "conv_n_filters = 5\n",
    "conv_filter_sizes = [3, 4, 5]\n",
    "conv_window_size = (5, embedding_size)\n",
    "pool_window_size = (4,4)\n",
    "hidden_layer_size = 32\n",
    "dropout_size = 0.5\n",
    "\n",
    "inp = Input(shape=(sentence_size,))\n",
    "if multichannel:\n",
    "    emb1 = Embedding(vocab_size, embedding_size, weights=[embedding_weights], trainable=False)(inp)\n",
    "    emb1 = Reshape((sentence_size, embedding_size, 1))(emb1)\n",
    "    emb2 = Embedding(vocab_size, embedding_size, weights=[embedding_weights], trainable=True)(inp)\n",
    "    emb2 = Reshape((sentence_size, embedding_size, 1))(emb2)\n",
    "    x = Concatenate()([emb1, emb2])\n",
    "else:\n",
    "    if rand:\n",
    "        emb = Embedding(vocab_size, embedding_size)(inp)\n",
    "    elif static:\n",
    "        emb = Embedding(vocab_size, embedding_size, weights=[embedding_weights], trainable=False)(inp)\n",
    "    else:\n",
    "        emb = Embedding(vocab_size, embedding_size, weights=[embedding_weights], trainable=True)(inp)\n",
    "    x = Reshape((sentence_size, embedding_size, 1))(emb)\n",
    "\n",
    "convolution_layer = []\n",
    "for filter_size in conv_filter_sizes:\n",
    "    conv_window_size = (filter_size, embedding_size)\n",
    "    conv = Conv2D(conv_n_filters, conv_window_size, activation='relu', use_bias=True, padding='valid')(x)\n",
    "    convolution_layer.append(GlobalMaxPooling2D()(conv))\n",
    "\n",
    "x = Concatenate()(convolution_layer)\n",
    "x = Dropout(dropout_size)(x)\n",
    "x = Dense(1, activation='sigmoid', kernel_constraint=max_norm(3))(x)\n",
    "\n",
    "model = Model(inputs=inp, outputs=x)\n",
    "\n",
    "model.compile(optimizer=Adadelta(), loss='binary_crossentropy', metrics=['accuracy'])\n",
    "#model.summary()"
   ]
  },
  {
   "cell_type": "code",
   "execution_count": 21,
   "metadata": {},
   "outputs": [
    {
     "name": "stdout",
     "output_type": "stream",
     "text": [
      "Training split 1\n"
     ]
    },
    {
     "name": "stderr",
     "output_type": "stream",
     "text": [
      "C:\\Users\\berna\\Anaconda3\\lib\\site-packages\\tensorflow\\python\\ops\\gradients_impl.py:112: UserWarning: Converting sparse IndexedSlices to a dense Tensor of unknown shape. This may consume a large amount of memory.\n",
      "  \"Converting sparse IndexedSlices to a dense Tensor of unknown shape. \"\n"
     ]
    },
    {
     "name": "stdout",
     "output_type": "stream",
     "text": [
      "Train on 9595 samples, validate on 1067 samples\n",
      "Epoch 1/2\n",
      "9595/9595 [==============================] - 42s 4ms/step - loss: 0.6240 - acc: 0.6522 - val_loss: 0.5533 - val_acc: 0.7245\n",
      "Epoch 2/2\n",
      "9595/9595 [==============================] - 46s 5ms/step - loss: 0.5350 - acc: 0.7375 - val_loss: 0.5301 - val_acc: 0.7132\n"
     ]
    }
   ],
   "source": [
    "### MULTICHANNEL\n",
    "#model.save_weights('model.h5')\n",
    "kf = KFold(10, random_state=42)\n",
    "histories = []\n",
    "i = 0\n",
    "for train_index, test_index in kf.split(X_train):\n",
    "    i += 1\n",
    "    train_data, test_data = X_train[train_index], X_train[test_index]\n",
    "    train_labels, test_labels = labels[train_index], labels[test_index]\n",
    "    #model.load_weights('model.h5')\n",
    "    print(f'Training split {i}')\n",
    "    histories.append(model.fit(train_data, train_labels, validation_data=(test_data, test_labels), batch_size=32, epochs=2))\n",
    "    break"
   ]
  },
  {
   "cell_type": "code",
   "execution_count": 18,
   "metadata": {},
   "outputs": [
    {
     "name": "stdout",
     "output_type": "stream",
     "text": [
      "Training split 1\n",
      "Train on 9595 samples, validate on 1067 samples\n",
      "Epoch 1/2\n",
      "9595/9595 [==============================] - 9s 942us/step - loss: 0.6262 - acc: 0.6486 - val_loss: 0.5556 - val_acc: 0.7366\n",
      "Epoch 2/2\n",
      "9595/9595 [==============================] - 10s 1ms/step - loss: 0.5480 - acc: 0.7294 - val_loss: 0.5302 - val_acc: 0.7310\n"
     ]
    }
   ],
   "source": [
    "### STATIC\n",
    "#model.save_weights('model.h5')\n",
    "kf = KFold(10, random_state=42)\n",
    "histories = []\n",
    "i = 0\n",
    "for train_index, test_index in kf.split(X_train):\n",
    "    i += 1\n",
    "    train_data, test_data = X_train[train_index], X_train[test_index]\n",
    "    train_labels, test_labels = labels[train_index], labels[test_index]\n",
    "    #model.load_weights('model.h5')\n",
    "    print(f'Training split {i}')\n",
    "    histories.append(model.fit(train_data, train_labels, validation_data=(test_data, test_labels), batch_size=32, epochs=2))\n",
    "    break"
   ]
  },
  {
   "cell_type": "code",
   "execution_count": 16,
   "metadata": {},
   "outputs": [
    {
     "name": "stdout",
     "output_type": "stream",
     "text": [
      "Training split 1\n"
     ]
    },
    {
     "name": "stderr",
     "output_type": "stream",
     "text": [
      "C:\\Users\\berna\\Anaconda3\\lib\\site-packages\\tensorflow\\python\\ops\\gradients_impl.py:112: UserWarning: Converting sparse IndexedSlices to a dense Tensor of unknown shape. This may consume a large amount of memory.\n",
      "  \"Converting sparse IndexedSlices to a dense Tensor of unknown shape. \"\n"
     ]
    },
    {
     "name": "stdout",
     "output_type": "stream",
     "text": [
      "Train on 9595 samples, validate on 1067 samples\n",
      "Epoch 1/2\n",
      "9595/9595 [==============================] - 33s 3ms/step - loss: 0.6256 - acc: 0.6539 - val_loss: 0.5523 - val_acc: 0.7488\n",
      "Epoch 2/2\n",
      "9595/9595 [==============================] - 31s 3ms/step - loss: 0.5398 - acc: 0.7360 - val_loss: 0.5080 - val_acc: 0.7582\n"
     ]
    }
   ],
   "source": [
    "### NON-STATIC\n",
    "#model.save_weights('model.h5')\n",
    "kf = KFold(10, random_state=42)\n",
    "histories = []\n",
    "i = 0\n",
    "for train_index, test_index in kf.split(X_train):\n",
    "    i += 1\n",
    "    train_data, test_data = X_train[train_index], X_train[test_index]\n",
    "    train_labels, test_labels = labels[train_index], labels[test_index]\n",
    "    #model.load_weights('model.h5')\n",
    "    print(f'Training split {i}')\n",
    "    histories.append(model.fit(train_data, train_labels, validation_data=(test_data, test_labels), batch_size=32, epochs=2))\n",
    "    break"
   ]
  },
  {
   "cell_type": "code",
   "execution_count": 14,
   "metadata": {},
   "outputs": [
    {
     "name": "stdout",
     "output_type": "stream",
     "text": [
      "Training split 1\n"
     ]
    },
    {
     "name": "stderr",
     "output_type": "stream",
     "text": [
      "C:\\Users\\berna\\Anaconda3\\lib\\site-packages\\tensorflow\\python\\ops\\gradients_impl.py:112: UserWarning: Converting sparse IndexedSlices to a dense Tensor of unknown shape. This may consume a large amount of memory.\n",
      "  \"Converting sparse IndexedSlices to a dense Tensor of unknown shape. \"\n"
     ]
    },
    {
     "name": "stdout",
     "output_type": "stream",
     "text": [
      "Train on 9595 samples, validate on 1067 samples\n",
      "Epoch 1/2\n",
      "9595/9595 [==============================] - 33s 3ms/step - loss: 0.6853 - acc: 0.5510 - val_loss: 0.6664 - val_acc: 0.6120\n",
      "Epoch 2/2\n",
      "9595/9595 [==============================] - 31s 3ms/step - loss: 0.6468 - acc: 0.6368 - val_loss: 0.6161 - val_acc: 0.6785\n"
     ]
    }
   ],
   "source": [
    "### RAND\n",
    "#model.save_weights('model.h5')\n",
    "kf = KFold(10, random_state=42)\n",
    "histories = []\n",
    "i = 0\n",
    "for train_index, test_index in kf.split(X_train):\n",
    "    i += 1\n",
    "    train_data, test_data = X_train[train_index], X_train[test_index]\n",
    "    train_labels, test_labels = labels[train_index], labels[test_index]\n",
    "    #model.load_weights('model.h5')\n",
    "    print(f'Training split {i}')\n",
    "    histories.append(model.fit(train_data, train_labels, validation_data=(test_data, test_labels), batch_size=32, epochs=2))\n",
    "    break"
   ]
  },
  {
   "cell_type": "code",
   "execution_count": 136,
   "metadata": {},
   "outputs": [
    {
     "data": {
      "image/png": "[encoded data removed]",
      "text/plain": [
       "<Figure size 432x288 with 1 Axes>"
      ]
     },
     "metadata": {},
     "output_type": "display_data"
    }
   ],
   "source": [
    "import matplotlib.pyplot as plt\n",
    "\n",
    "plt.plot(history.history['acc'], label='train_acc')\n",
    "plt.plot(history.history['val_acc'], label='val_acc')\n",
    "plt.legend()\n",
    "plt.show()"
   ]
  },
  {
   "cell_type": "markdown",
   "metadata": {},
   "source": [
    "### Class CNN SENTENCE"
   ]
  },
  {
   "cell_type": "code",
   "execution_count": 113,
   "metadata": {
    "collapsed": true
   },
   "outputs": [],
   "source": [
    "class CNN_Sentence():\n",
    "    def __init__(self, sentence_size, embedding_size, n_filters, filter_sizes, kernel_size, dropout_ratio, \n",
    "                 embedding_weights=None, optimizer='adam', loss='binary_crossentropy', metrics=['accuracy']):\n",
    "        inp = Input(shape=(sentence_size,))\n",
    "        if embedding_weights is not None:\n",
    "            emb = Embedding(vocab_size, embedding_size, weights=[embedding_weights])(inp)\n",
    "        else:\n",
    "            emb = Embedding(vocab_size, embedding_size)(inp)\n",
    "        x = Reshape((sentence_size, embedding_size, 1))(emb)\n",
    "\n",
    "        convolution_layer = []\n",
    "        for filter_size in filter_sizes:\n",
    "            conv_window_size = (filter_size, embedding_size)\n",
    "            conv = Conv2D(n_filters, kernel_size, activation='relu', use_bias=True, padding='valid')(x)\n",
    "            convolution_layer.append(GlobalMaxPooling2D()(conv))\n",
    "\n",
    "        x = Concatenate()(convolution_layer)\n",
    "        x = Dropout(dropout_ratio)(x)\n",
    "        x = Dense(1, activation='sigmoid')(x)\n",
    "\n",
    "        self._model = Model(inputs=inp, outputs=x)\n",
    "        self._model.compile(optimizer=optimizer, loss=loss, metrics=metrics)\n",
    "        \n",
    "    def fit(self, x, y, batch_size=32, epochs=5):\n",
    "        self._history = self._model.fit(x, y, batch_size, epochs)\n",
    "        \n",
    "    def predict(self, x):\n",
    "        self._model.predict(x)\n",
    "        \n",
    "    def summary(self):\n",
    "        print(self._model.summary())"
   ]
  },
  {
   "cell_type": "code",
   "execution_count": 115,
   "metadata": {},
   "outputs": [],
   "source": [
    "model = CNN_Sentence(sentence_size=sentence_size, embedding_size=300, n_filters=5, filter_sizes=[3,4,5], \n",
    "                     kernel_size=[5,embedding_size], dropout_ratio=0.5, embedding_weights=embedding_weights)"
   ]
  },
  {
   "cell_type": "code",
   "execution_count": 117,
   "metadata": {},
   "outputs": [
    {
     "name": "stderr",
     "output_type": "stream",
     "text": [
      "C:\\Users\\berna\\Anaconda3\\lib\\site-packages\\tensorflow\\python\\ops\\gradients_impl.py:112: UserWarning: Converting sparse IndexedSlices to a dense Tensor of unknown shape. This may consume a large amount of memory.\n",
      "  \"Converting sparse IndexedSlices to a dense Tensor of unknown shape. \"\n"
     ]
    },
    {
     "name": "stdout",
     "output_type": "stream",
     "text": [
      "Epoch 1/5\n",
      "10662/10662 [==============================] - 34s 3ms/step - loss: 0.5686 - acc: 0.7077\n",
      "Epoch 2/5\n",
      "10662/10662 [==============================] - 31s 3ms/step - loss: 0.3985 - acc: 0.8341\n",
      "Epoch 3/5\n",
      "10662/10662 [==============================] - 34s 3ms/step - loss: 0.2630 - acc: 0.9009\n",
      "Epoch 4/5\n",
      "10662/10662 [==============================] - 32s 3ms/step - loss: 0.1815 - acc: 0.9363\n",
      "Epoch 5/5\n",
      "10662/10662 [==============================] - 33s 3ms/step - loss: 0.1228 - acc: 0.9609\n"
     ]
    }
   ],
   "source": [
    "model.fit(X_train, labels)"
   ]
  },
  {
   "cell_type": "markdown",
   "metadata": {},
   "source": [
    "Using \"same\" padding results in the training being veeeeery slow. <br>\n",
    "TF optimizers are not working properly and don't converge. However, Keras optimizers run into a denser tensor problem, which may impact performance."
   ]
  }
 ],
 "metadata": {
  "kernelspec": {
   "display_name": "Python 3",
   "language": "python",
   "name": "python3"
  },
  "language_info": {
   "codemirror_mode": {
    "name": "ipython",
    "version": 3
   },
   "file_extension": ".py",
   "mimetype": "text/x-python",
   "name": "python",
   "nbconvert_exporter": "python",
   "pygments_lexer": "ipython3",
   "version": "3.6.5"
  }
 },
 "nbformat": 4,
 "nbformat_minor": 2
}
